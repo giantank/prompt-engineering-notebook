{
 "cells": [
  {
   "attachments": {},
   "cell_type": "markdown",
   "metadata": {},
   "source": [
    "# 扩展 Expanding\n",
    "\n",
    "在本课中，您将生成针对每位客户评价的定制化客户服务电子邮件。\n",
    "\n",
    "[website](https://learn.deeplearning.ai/chatgpt-prompt-eng/lesson/7/expanding)"
   ]
  },
  {
   "attachments": {},
   "cell_type": "markdown",
   "metadata": {},
   "source": [
    "## Setup"
   ]
  },
  {
   "cell_type": "code",
   "execution_count": 2,
   "metadata": {},
   "outputs": [],
   "source": [
    "import openai\n",
    "import os\n",
    "\n",
    "from dotenv import load_dotenv, find_dotenv\n",
    "_ = load_dotenv(find_dotenv()) # read local .env file\n",
    "\n",
    "openai.api_key  = os.getenv('OPENAI_API_KEY')"
   ]
  },
  {
   "cell_type": "code",
   "execution_count": 3,
   "metadata": {},
   "outputs": [],
   "source": [
    "def get_completion(prompt, model=\"gpt-3.5-turbo\",temperature=0): # Andrew mentioned that the prompt/ completion paradigm is preferable for this class\n",
    "    messages = [{\"role\": \"user\", \"content\": prompt}]\n",
    "    response = openai.ChatCompletion.create(\n",
    "        model=model,\n",
    "        messages=messages,\n",
    "        temperature=temperature, # this is the degree of randomness of the model's output\n",
    "    )\n",
    "    return response.choices[0].message[\"content\"]"
   ]
  },
  {
   "attachments": {},
   "cell_type": "markdown",
   "metadata": {},
   "source": [
    "## 定制自动回复客户电子邮件"
   ]
  },
  {
   "cell_type": "code",
   "execution_count": 1,
   "metadata": {},
   "outputs": [],
   "source": [
    "# given the sentiment from the lesson on \"inferring\",\n",
    "# and the original customer message, customize the email\n",
    "sentiment = \"negative\"\n",
    "\n",
    "# review for a blender\n",
    "review = f\"\"\"\n",
    "所以，他们在11月份仍然有17件套装系统在季节性促销中，价格大约为49美元，折扣约为五折，\n",
    "但是由于某种原因（可以称之为价格欺诈），到了12月的第二周，同样的系统价格都上涨到了大约70-89美元之间。\n",
    "而11件套装系统的价格也从之前的促销价29美元上涨了大约10美元左右。所以它看起来还不错，但如果您观察底座，\n",
    "刀片锁定到位的部分看起来没有几年前的版本那么好，但我计划对它非常温柔（例如，我先在搅拌机中粉碎非常坚硬的物品，\n",
    "如豆类、冰块、大米等，然后在搅拌机中将它们粉碎成我想要的份量，然后切换到搅拌刀以获得更细的面粉，\n",
    "并在制作奶昔时先使用交叉切割刀，然后使用平刀，如果我需要它们更细/更少浆状的话）。\n",
    "制作奶昔的特殊技巧是，细切并冷冻您计划使用的水果和蔬菜（如果使用菠菜-轻炖软化菠菜，然后冷冻直到准备使用-如果制作冰糕，\n",
    "使用小到中型食品处理器），这样您就可以避免在制作奶昔时添加太多的冰块，甚至完全不添加冰块。\n",
    "大约一年后，马达发出了奇怪的噪音。我打电话给客户服务，但保修期已经过期，所以我不得不再买一个。\n",
    "仅供参考：这类产品的整体质量已经下降，所以他们有点依赖品牌认知和消费者忠诚度来维持销售。大约两天后收到了货。\n",
    "\"\"\""
   ]
  },
  {
   "cell_type": "code",
   "execution_count": 5,
   "metadata": {},
   "outputs": [
    {
     "name": "stdout",
     "output_type": "stream",
     "text": [
      "尊敬的客户，\n",
      "\n",
      "非常感谢您对我们产品的评论。我们非常抱歉您在使用过程中遇到了问题。我们深刻理解您的不满和失望，并为此向您道歉。\n",
      "\n",
      "我们非常重视客户的反馈，我们会将您的意见反馈给我们的团队，以便改进我们的产品和服务。我们建议您联系我们的客户服务，以便我们能够更好地了解您的问题并提供更好的解决方案。\n",
      "\n",
      "再次感谢您对我们的支持和反馈。我们期待为您提供更好的服务。\n",
      "\n",
      "祝您一切顺利！\n",
      "\n",
      "AI客户代理\n"
     ]
    }
   ],
   "source": [
    "prompt = f\"\"\"\n",
    "您是一名客户服务AI助手。您的任务是向一位尊敬的客户发送电子邮件回复。\n",
    "给定由分隔的客户电子邮件， 生成一封回复邮件，感谢客户的评论。 \n",
    "如果情感是积极的或中性的，请感谢他们的评论。 如果情感是消极的，请道歉，并建议他们可以联系客户服务。 \n",
    "确保使用评论中的具体细节。 以简洁、专业的语气撰写。 请以“AI客户代理”为签名。 \n",
    "客户评论：```{review}```\n",
    "评论情感：{sentiment}\n",
    "\"\"\"\n",
    "response = get_completion(prompt)\n",
    "print(response)"
   ]
  },
  {
   "attachments": {},
   "cell_type": "markdown",
   "metadata": {},
   "source": [
    "## 提醒模型使用客户电子邮件中的详细信息"
   ]
  },
  {
   "cell_type": "code",
   "execution_count": 7,
   "metadata": {},
   "outputs": [
    {
     "name": "stdout",
     "output_type": "stream",
     "text": [
      "尊敬的客户，\n",
      "\n",
      "我们非常抱歉您的产品出现了问题，并且我们的客户服务未能满足您的期望。我们感谢您分享了您的经验和技巧，这将对我们的未来产品开发和服务改进非常有帮助。\n",
      "\n",
      "我们深刻理解您的不满和失望，我们会尽力确保我们的产品和服务达到最高标准。如果您需要任何帮助或支持，请随时联系我们的客户服务团队，我们将竭诚为您服务。\n",
      "\n",
      "再次感谢您对我们产品的支持和反馈。\n",
      "\n",
      "祝您一切顺利。\n",
      "\n",
      "AI客户代理\n"
     ]
    }
   ],
   "source": [
    "prompt = f\"\"\"\n",
    "您是一名客户服务AI助手。\n",
    "您的任务是向一位尊敬的客户发送电子邮件回复。\n",
    "给定由分隔的客户电子邮件，请生成一封回复邮件，感谢客户的评价。 如果评价的情感是积极的或中性的，请感谢他们的评价。 \n",
    "如果评价的情感是消极的，请道歉，并建议他们可以联系客户服务以获得帮助。 确保在回复中使用评价中的具体细节。 \n",
    "请以简洁、专业的语气撰写回复。 请以“AI客户代理”为签名。 \n",
    "客户评价：```{review}```\n",
    "评价情感：{sentiment}\n",
    "\"\"\"\n",
    "\n",
    "# 使用的 temperature 为 0.7，这里是调节返回内容的发散程度。\n",
    "response = get_completion(prompt, temperature=0.5)\n",
    "print(response)"
   ]
  }
 ],
 "metadata": {
  "kernelspec": {
   "display_name": "Python 3",
   "language": "python",
   "name": "python3"
  },
  "language_info": {
   "codemirror_mode": {
    "name": "ipython",
    "version": 3
   },
   "file_extension": ".py",
   "mimetype": "text/x-python",
   "name": "python",
   "nbconvert_exporter": "python",
   "pygments_lexer": "ipython3",
   "version": "3.11.3"
  },
  "orig_nbformat": 4
 },
 "nbformat": 4,
 "nbformat_minor": 2
}
