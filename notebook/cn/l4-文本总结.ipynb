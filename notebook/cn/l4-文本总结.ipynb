{
 "cells": [
  {
   "attachments": {},
   "cell_type": "markdown",
   "metadata": {},
   "source": [
    "# 文本总结\n",
    "\n",
    "在本课程中，您将学习如何对特定主题的文本进行摘要。\n",
    "\n",
    "[课程网站](https://learn.deeplearning.ai/chatgpt-prompt-eng/lesson/4/summarizing)\n"
   ]
  },
  {
   "attachments": {},
   "cell_type": "markdown",
   "metadata": {},
   "source": [
    "## 准备工作\n"
   ]
  },
  {
   "cell_type": "code",
   "execution_count": 2,
   "metadata": {},
   "outputs": [],
   "source": [
    "import openai\n",
    "import os\n",
    "\n",
    "from dotenv import load_dotenv, find_dotenv\n",
    "_ = load_dotenv(find_dotenv()) # read local .env file\n",
    "\n",
    "openai.api_key  = os.getenv('OPENAI_API_KEY')"
   ]
  },
  {
   "cell_type": "code",
   "execution_count": 3,
   "metadata": {},
   "outputs": [],
   "source": [
    "def get_completion(prompt, model=\"gpt-3.5-turbo\"): # Andrew mentioned that the prompt/ completion paradigm is preferable for this class\n",
    "    messages = [{\"role\": \"user\", \"content\": prompt}]\n",
    "    response = openai.ChatCompletion.create(\n",
    "        model=model,\n",
    "        messages=messages,\n",
    "        temperature=0, # this is the degree of randomness of the model's output\n",
    "    )\n",
    "    return response.choices[0].message[\"content\"]\n"
   ]
  },
  {
   "attachments": {},
   "cell_type": "markdown",
   "metadata": {},
   "source": [
    "## 需要总结的文本"
   ]
  },
  {
   "cell_type": "code",
   "execution_count": 6,
   "metadata": {},
   "outputs": [],
   "source": [
    "prod_review = \"\"\"\n",
    "为我女儿的生日买了这个熊猫毛绒玩具，她很喜欢它，并且会带着它去任何地方。 它柔软而超级可爱，它的脸看起来很友善。 \n",
    "虽然我付出的代价有点小。 我认为同样的价格可能还有其他更大的选择。 它比预期提前一天到达，所以在我把它送给她之前我必须自己玩它。\n",
    "\"\"\""
   ]
  },
  {
   "attachments": {},
   "cell_type": "markdown",
   "metadata": {},
   "source": [
    "## 限制词数/句数/字符数进行总结"
   ]
  },
  {
   "cell_type": "code",
   "execution_count": 7,
   "metadata": {},
   "outputs": [
    {
     "name": "stdout",
     "output_type": "stream",
     "text": [
      "超级可爱的熊猫毛绒玩具，女儿喜欢带着它到处走。价格有点小贵，但还是值得购买。\n"
     ]
    }
   ],
   "source": [
    "prompt = f\"\"\"\n",
    "您的任务是生成来自电子商务网站的产品评论的简短摘要。\n",
    "\n",
    "总结下面的评论，用三个反引号分隔，最多 30 个单词。\n",
    "\n",
    "评论：```{prod_review}```\n",
    "\"\"\"\n",
    "\n",
    "response = get_completion(prompt)\n",
    "print(response)\n"
   ]
  },
  {
   "attachments": {},
   "cell_type": "markdown",
   "metadata": {},
   "source": [
    "## 以运输和交付为重点进行总结\n"
   ]
  },
  {
   "cell_type": "code",
   "execution_count": 8,
   "metadata": {},
   "outputs": [
    {
     "name": "stdout",
     "output_type": "stream",
     "text": [
      "熊猫毛绒玩具柔软可爱，女儿喜欢带着它到处走。价格略高，但有更大的选择。提前一天到达，需要自己玩。\n"
     ]
    }
   ],
   "source": [
    "prompt = f\"\"\"\n",
    "您的任务是从电子商务网站生成产品评论的简短摘要，以向运输部门提供反馈。\n",
    "\n",
    "总结以下评论，用三个反引号分隔，最多 30 个单词，并重点关注提及产品运输和交付的任何方面。\n",
    "\n",
    "评论：```{prod_review}```\n",
    "\"\"\"\n",
    "\n",
    "response = get_completion(prompt)\n",
    "print(response)\n"
   ]
  },
  {
   "attachments": {},
   "cell_type": "markdown",
   "metadata": {},
   "source": [
    "## 以价格和价值为重点进行总结"
   ]
  },
  {
   "cell_type": "code",
   "execution_count": 9,
   "metadata": {},
   "outputs": [
    {
     "name": "stdout",
     "output_type": "stream",
     "text": [
      "这个熊猫毛绒玩具柔软可爱，女儿很喜欢，但价格略高，可能有更好的选择。\n"
     ]
    }
   ],
   "source": [
    "prompt = f\"\"\"\n",
    "您的任务是从电子商务网站生成产品评论的简短摘要，以向负责确定产品价格的定价部门提供反馈。\n",
    "\n",
    "总结以下评论，用三重反引号分隔，最多 30 个单词，并着重于与价格和感知价值相关的任何方面。\n",
    "\n",
    "评论：```{prod_review}```\n",
    "\"\"\"\n",
    "\n",
    "response = get_completion(prompt)\n",
    "print(response)\n"
   ]
  },
  {
   "attachments": {},
   "cell_type": "markdown",
   "metadata": {},
   "source": [
    "#### 评论\n",
    "- 摘要包括与重点主题无关的主题。"
   ]
  },
  {
   "attachments": {},
   "cell_type": "markdown",
   "metadata": {},
   "source": [
    "## 尝试使用“提取”替代“总结”\n"
   ]
  },
  {
   "cell_type": "code",
   "execution_count": 11,
   "metadata": {},
   "outputs": [
    {
     "name": "stdout",
     "output_type": "stream",
     "text": [
      "运输和交付相关信息：```\n",
      "它比预期提前一天到达。\n",
      "```\n"
     ]
    }
   ],
   "source": [
    "prompt = f\"\"\"\n",
    "您的任务是从电子商务网站的产品评论中提取相关信息，以向运输部门提供反馈。\n",
    "\n",
    "从下面的评论中，用三重引号分隔提取与运输和交付相关的信息。 限制在 30 个字以内。\n",
    "\n",
    "评论：```{prod_review}```\n",
    "\"\"\"\n",
    "\n",
    "response = get_completion(prompt)\n",
    "print(response)"
   ]
  },
  {
   "attachments": {},
   "cell_type": "markdown",
   "metadata": {},
   "source": [
    "## 对多个产品评论进行总结"
   ]
  },
  {
   "cell_type": "code",
   "execution_count": 12,
   "metadata": {},
   "outputs": [],
   "source": [
    "\n",
    "review_1 = prod_review \n",
    "\n",
    "# review for a standing lamp\n",
    "review_2 = \"\"\"\n",
    "我需要一盏适合卧室的漂亮台灯，这款台灯额外带有储物功能，价格也不高。收货很快——2天就到了。\n",
    "在运输过程中，台灯的拉绳断了，公司很高兴地给我寄了一个新的。新拉绳也在几天之内送到了。\n",
    "组装起来很简单。后来我发现缺了一个零件，于是联系了他们的客服，他们很快就给我寄来了缺失的零件！\n",
    "在我看来，这是一家非常关心客户和产品的优秀公司。\n",
    "\"\"\"\n",
    "\n",
    "# review for an electric toothbrush\n",
    "review_3 = \"\"\"\n",
    "我的牙科保健师推荐我使用电动牙刷，所以我选择了这款。迄今为止，电池续航似乎相当令人印象深刻。\n",
    "在首次充电并将充电器插头插入一个星期以调节电池后，我拔掉了充电器，用同一次充电在过去的三个星期里每天刷两次牙。\n",
    "但是牙刷头太小了。我见过比这个大的婴儿牙刷。我希望牙刷头更大一些，刷毛长度不同，以便更好地夹在牙齿之间，因为这款牙刷做不到。\n",
    "总的来说，如果你能在50美元左右的价格购买这款牙刷，那它就是一个好交易。制造商的替换刷头相当昂贵，但你可以购买更合理价格的通用刷头。\n",
    "这款牙刷让我觉得每天都像去过牙医一样。我的牙齿感觉闪闪发光的干净！\n",
    "\"\"\"\n",
    "\n",
    "# review for a blender\n",
    "review_4 = \"\"\"\n",
    "那么，在11月份，他们的17件套装系统仍然在季节性促销中，价格大约为49美元，折扣大约一半，但出于某种原因（称之为价格欺诈），\n",
    "在12月的第二个星期，同样的系统价格上涨到70至89美元之间。而11件套装系统的价格也从之前的促销价29美元上涨了大约10美元左右。\n",
    "所以外观看起来还不错，但如果你看底座，刀片锁定的部分看起来不如几年前的早期版本好，但我计划对它非常温柔（例如，\n",
    "我先在搅拌机中将像豆子、冰块、大米等硬物品压碎，然后将它们在搅拌机中按我想要的份量研磨成粉末，\n",
    "然后切换到搅打刀片以获得更细腻的面粉，制作果昔时先使用十字切割刀片，然后使用平刃刀片，以便需要更细腻/更少纤维时使用）。\n",
    "制作果昔的特殊技巧是，将水果和蔬菜切碎并冷冻（如果使用菠菜-稍微炖软菠菜然后冷冻，准备使用时取出-如果制作果冻，\n",
    "使用中小型食物处理器），这样你可以避免在制作果昔时添加过多的冰。大约一年后，马达发出了奇怪的噪音。我致电客户服务，\n",
    "但保修期已经过期，所以我不得不再买一个。仅供参考：这类产品的整体质量已经下降，\n",
    "所以他们有点依赖品牌认知和消费者忠诚度来维持销售。大约两天就收到了。\n",
    "\"\"\"\n",
    "\n",
    "reviews = [review_1, review_2, review_3, review_4]\n"
   ]
  },
  {
   "cell_type": "code",
   "execution_count": 14,
   "metadata": {},
   "outputs": [
    {
     "name": "stdout",
     "output_type": "stream",
     "text": [
      "0 超级可爱的熊猫玩具，柔软友善，女儿喜欢，价格略高。 \n",
      "\n",
      "1 优秀的台灯，带储物功能，快速送达，优质客服。``` \n",
      "\n",
      "2 电动牙刷续航印象深刻，但刷头太小。价格合理，让牙齿感觉干净。 \n",
      "\n",
      "3 价格欺诈，外观不错，质量下降，制作果昔技巧，马达噪音。 \n",
      "\n"
     ]
    }
   ],
   "source": [
    "for i in range(len(reviews)):\n",
    "    prompt = f\"\"\"\n",
    "您的任务是从电子商务网站生成一个产品评论的简短摘要。\n",
    "\n",
    "请对下面的评论进行总结，用三个反引号分隔，最多不超过20个单词。\n",
    "\n",
    "评论： ```{reviews[i]}```\n",
    "    \"\"\"\n",
    "\n",
    "    response = get_completion(prompt)\n",
    "    print(i, response, \"\\n\")\n"
   ]
  }
 ],
 "metadata": {
  "kernelspec": {
   "display_name": "Python 3",
   "language": "python",
   "name": "python3"
  },
  "language_info": {
   "codemirror_mode": {
    "name": "ipython",
    "version": 3
   },
   "file_extension": ".py",
   "mimetype": "text/x-python",
   "name": "python",
   "nbconvert_exporter": "python",
   "pygments_lexer": "ipython3",
   "version": "3.11.3"
  },
  "orig_nbformat": 4
 },
 "nbformat": 4,
 "nbformat_minor": 2
}
