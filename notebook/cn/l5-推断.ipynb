{
 "cells": [
  {
   "attachments": {},
   "cell_type": "markdown",
   "metadata": {},
   "source": [
    "# 推断\n",
    "在本课程中，您将从产品评论和新闻文章中推断情感和主题。\n",
    "\n",
    "[课程网站](https://learn.deeplearning.ai/chatgpt-prompt-eng/lesson/5/inferring)"
   ]
  },
  {
   "attachments": {},
   "cell_type": "markdown",
   "metadata": {},
   "source": [
    "## 准备"
   ]
  },
  {
   "cell_type": "code",
   "execution_count": 2,
   "metadata": {},
   "outputs": [],
   "source": [
    "import openai\n",
    "import os\n",
    "\n",
    "from dotenv import load_dotenv, find_dotenv\n",
    "_ = load_dotenv(find_dotenv()) # read local .env file\n",
    "\n",
    "openai.api_key  = os.getenv('OPENAI_API_KEY')"
   ]
  },
  {
   "cell_type": "code",
   "execution_count": 3,
   "metadata": {},
   "outputs": [],
   "source": [
    "def get_completion(prompt, model=\"gpt-3.5-turbo\"):\n",
    "    messages = [{\"role\": \"user\", \"content\": prompt}]\n",
    "    response = openai.ChatCompletion.create(\n",
    "        model=model,\n",
    "        messages=messages,\n",
    "        temperature=0, # this is the degree of randomness of the model's output\n",
    "    )\n",
    "    return response.choices[0].message[\"content\"]"
   ]
  },
  {
   "attachments": {},
   "cell_type": "markdown",
   "metadata": {},
   "source": [
    "## 产品的评论文本"
   ]
  },
  {
   "cell_type": "code",
   "execution_count": 4,
   "metadata": {},
   "outputs": [],
   "source": [
    "lamp_review = \"\"\"\n",
    "需要一盏适合卧室的漂亮台灯，这款台灯还有额外的存储空间，价格不高。收到货很快。\n",
    "运输途中灯的拉绳断了，公司很高兴地给我寄了一个新的。几天之内就收到了。\n",
    "组装起来很容易。我遇到了一个缺失的零件，于是联系了他们的客服，他们很快就给我寄来了缺失的部件！\n",
    "Lumina 对我来说是一个非常关心客户和产品的优秀公司！\n",
    "\"\"\""
   ]
  },
  {
   "attachments": {},
   "cell_type": "markdown",
   "metadata": {},
   "source": [
    "## 情感（积极/消极）"
   ]
  },
  {
   "cell_type": "code",
   "execution_count": 5,
   "metadata": {},
   "outputs": [
    {
     "name": "stdout",
     "output_type": "stream",
     "text": [
      "积极的。\n"
     ]
    }
   ],
   "source": [
    "prompt = f\"\"\"\n",
    "以下产品评论的情感是什么？评论文本由三个反引号分隔。\n",
    "\n",
    "评论文本：'''{lamp_review}'''\n",
    "\"\"\"\n",
    "response = get_completion(prompt)\n",
    "print(response)"
   ]
  },
  {
   "cell_type": "code",
   "execution_count": 6,
   "metadata": {},
   "outputs": [
    {
     "name": "stdout",
     "output_type": "stream",
     "text": [
      "正面\n"
     ]
    }
   ],
   "source": [
    "prompt = f\"\"\"\n",
    "以下产品评论的情感是什么？评论文本由三个反引号分隔。\n",
    "\n",
    "将您的答案以单个词汇给出，选择“正面”或“负面”。\n",
    "\n",
    "评论文本：'''{lamp_review}'''\n",
    "\"\"\"\n",
    "response = get_completion(prompt)\n",
    "print(response)"
   ]
  },
  {
   "attachments": {},
   "cell_type": "markdown",
   "metadata": {},
   "source": [
    "## 识别愤怒"
   ]
  },
  {
   "cell_type": "code",
   "execution_count": 7,
   "metadata": {},
   "outputs": [
    {
     "name": "stdout",
     "output_type": "stream",
     "text": [
      "no\n"
     ]
    }
   ],
   "source": [
    "prompt = f\"\"\"\n",
    "作者是否在以下评论中表达了愤怒？评论由三个反引号分隔。请回答“yes”或“no”。\n",
    "\n",
    "评论内容：'''{lamp_review}'''\n",
    "\"\"\"\n",
    "response = get_completion(prompt)\n",
    "print(response)"
   ]
  },
  {
   "attachments": {},
   "cell_type": "markdown",
   "metadata": {},
   "source": [
    "## 从客户评论中提取产品和公司名称"
   ]
  },
  {
   "cell_type": "code",
   "execution_count": 8,
   "metadata": {},
   "outputs": [
    {
     "name": "stdout",
     "output_type": "stream",
     "text": [
      "{\n",
      "  \"Item\": \"台灯\",\n",
      "  \"Brand\": \"Lumina\"\n",
      "}\n"
     ]
    }
   ],
   "source": [
    "prompt = f\"\"\"\n",
    "请从以下评论文本中找出以下信息：\n",
    "\n",
    "评论者购买的物品\n",
    "制造该物品的公司\n",
    "评论由三个反引号分隔。请将您的回答格式化为一个 JSON 对象，其中 \"Item\" 和 \"Brand\" 作为键。如果信息不存在，请使用 \"unknown\" 作为值。请尽可能简短地回答。\n",
    "\n",
    "评论内容：'''{lamp_review}'''\n",
    "\"\"\"\n",
    "response = get_completion(prompt)\n",
    "print(response)"
   ]
  },
  {
   "attachments": {},
   "cell_type": "markdown",
   "metadata": {},
   "source": [
    "## 同时进行多项任务"
   ]
  },
  {
   "cell_type": "code",
   "execution_count": 9,
   "metadata": {},
   "outputs": [
    {
     "name": "stdout",
     "output_type": "stream",
     "text": [
      "{\n",
      "  \"Sentiment\": \"积极\",\n",
      "  \"Anger\": false,\n",
      "  \"Item\": \"漂亮台灯\",\n",
      "  \"Brand\": \"Lumina\"\n",
      "}\n"
     ]
    }
   ],
   "source": [
    "prompt = f\"\"\"\n",
    "请从以下评论文本中找出以下信息：\n",
    "- 情感（积极或消极）\n",
    "- 评论者是否表达愤怒？（true 或 false）\n",
    "- 评论者购买的物品\n",
    "- 制造该物品的公司\n",
    "\n",
    "评论由三个反引号分隔。请将您的回答格式化为一个 JSON 对象，其中 \"Sentiment\"、\"Anger\"、\"Item\" 和 \"Brand\" 作为键。\n",
    "如果信息不存在，请使用 \"unknown\" 作为值。请尽可能简短地回答。将 \"Anger\" 的值格式化为布尔值。\n",
    "\n",
    "评论内容：'''{lamp_review}'''\n",
    "\"\"\"\n",
    "response = get_completion(prompt)\n",
    "print(response)"
   ]
  },
  {
   "attachments": {},
   "cell_type": "markdown",
   "metadata": {},
   "source": [
    "## 推断主题"
   ]
  },
  {
   "cell_type": "code",
   "execution_count": 10,
   "metadata": {},
   "outputs": [],
   "source": [
    "story = \"\"\"\n",
    "在最近一次政府进行的调查中，公共部门员工被要求对他们所在部门的满意程度进行评价。结果显示，美国国家航空航天局（NASA）是最受欢迎的部门，满意度评分为95%。\n",
    "\n",
    "一位 NASA 的员工，约翰·史密斯对这一调查结果发表了评论，他说：“我并不惊讶于 NASA 能够脱颖而出。这是一个和出色的人共事并拥有难以置信机会的好地方。我为成为这样一个创新组织的一员感到自豪。”\n",
    "\n",
    "NASA 的管理团队也对这一结果表示欢迎，总监汤姆·约翰逊表示：“我们很高兴听到我们的员工对在 NASA 的工作表示满意。我们拥有一支才华横溢、敬业的团队，他们为实现我们的目标而不懈努力，看到他们的辛勤工作取得了回报真是太棒了。”\n",
    "\n",
    "调查还显示，社会保障局的满意度评分最低，只有45%的员工表示对他们的工作感到满意。政府承诺将解决员工在调查中提出的问题，并努力提高所有部门的工作满意度。\n",
    "\"\"\""
   ]
  },
  {
   "attachments": {},
   "cell_type": "markdown",
   "metadata": {},
   "source": [
    "## 推断5个主题"
   ]
  },
  {
   "cell_type": "code",
   "execution_count": 11,
   "metadata": {},
   "outputs": [
    {
     "name": "stdout",
     "output_type": "stream",
     "text": [
      "NASA, 员工满意度, 创新组织, 管理团队, 社会保障局\n"
     ]
    }
   ],
   "source": [
    "prompt = f\"\"\"\n",
    "确定以下文本中讨论的五个主题，文本由三个反引号标记分隔。\n",
    "\n",
    "使每个项目长一个或两个单词。\n",
    "\n",
    "将您的回答格式化为逗号分隔的项目列表。\n",
    "\n",
    "文本示例： '''{story}'''\n",
    "\"\"\"\n",
    "response = get_completion(prompt)\n",
    "print(response)"
   ]
  },
  {
   "cell_type": "code",
   "execution_count": 12,
   "metadata": {},
   "outputs": [
    {
     "data": {
      "text/plain": [
       "['NASA', ' 员工满意度', ' 创新组织', ' 管理团队', ' 社会保障局']"
      ]
     },
     "execution_count": 12,
     "metadata": {},
     "output_type": "execute_result"
    }
   ],
   "source": [
    "response.split(sep=',')"
   ]
  },
  {
   "attachments": {},
   "cell_type": "markdown",
   "metadata": {},
   "source": [
    "## 为特定主题制定新闻提醒"
   ]
  },
  {
   "cell_type": "code",
   "execution_count": 17,
   "metadata": {},
   "outputs": [],
   "source": [
    "topic_list = [\n",
    "    \"nasa\", \"local government\", \"engineering\", \n",
    "    \"employee satisfaction\", \"federal government\"\n",
    "]"
   ]
  },
  {
   "cell_type": "code",
   "execution_count": 19,
   "metadata": {},
   "outputs": [
    {
     "name": "stdout",
     "output_type": "stream",
     "text": [
      "- nasa: 1\n",
      "- local government: 0\n",
      "- engineering: 0\n",
      "- employee satisfaction: 1\n",
      "- federal government: 1\n"
     ]
    }
   ],
   "source": [
    "prompt = f\"\"\"\n",
    "确定以下主题列表中的每个项目是否是下面文本中的主题，该文本由三个反引号分隔。\n",
    "\n",
    "将您的答案以列表形式呈现，对于每个主题，用 0 或 1 表示。\n",
    "\n",
    "主题列表：{\", \".join(topic_list)}\n",
    "\n",
    "文本示例：'''{story}'''\n",
    "\"\"\"\n",
    "response = get_completion(prompt)\n",
    "print(response)"
   ]
  },
  {
   "cell_type": "code",
   "execution_count": 20,
   "metadata": {},
   "outputs": [
    {
     "name": "stdout",
     "output_type": "stream",
     "text": [
      "ALERT: New NASA story!\n"
     ]
    }
   ],
   "source": [
    "topic_dict = {i.split(': ')[0]: int(i.split(': ')[1]) for i in response.split(sep='\\n')}\n",
    "if topic_dict['- nasa'] == 1:\n",
    "    print(\"ALERT: New NASA story!\")"
   ]
  }
 ],
 "metadata": {
  "kernelspec": {
   "display_name": "Python 3",
   "language": "python",
   "name": "python3"
  },
  "language_info": {
   "codemirror_mode": {
    "name": "ipython",
    "version": 3
   },
   "file_extension": ".py",
   "mimetype": "text/x-python",
   "name": "python",
   "nbconvert_exporter": "python",
   "pygments_lexer": "ipython3",
   "version": "3.11.3"
  },
  "orig_nbformat": 4
 },
 "nbformat": 4,
 "nbformat_minor": 2
}
