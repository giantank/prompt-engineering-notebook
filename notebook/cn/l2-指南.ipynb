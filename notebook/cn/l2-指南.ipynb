{
 "cells": [
  {
   "attachments": {},
   "cell_type": "markdown",
   "metadata": {},
   "source": [
    "# 指南\n",
    "\n",
    "在本课程中，您将学习两个提示原则及其相关策略，以便为大型语言模型编写有效的提示。\n",
    "\n",
    "[课程网站](https://learn.deeplearning.ai/chatgpt-prompt-eng/lesson/2/guidelines)\n"
   ]
  },
  {
   "attachments": {},
   "cell_type": "markdown",
   "metadata": {},
   "source": [
    "## 准备工作\n",
    "\n",
    "加载 API 密钥和相关的 Python 库。\n",
    "\n",
    "在本课程中，我们提供了一些代码，帮助您加载 OpenAI API 密钥。"
   ]
  },
  {
   "cell_type": "code",
   "execution_count": 2,
   "metadata": {},
   "outputs": [],
   "source": [
    "import openai\n",
    "import os\n",
    "\n",
    "from dotenv import load_dotenv, find_dotenv\n",
    "_ = load_dotenv(find_dotenv())\n",
    "\n",
    "openai.api_key  = os.getenv('OPENAI_API_KEY')"
   ]
  },
  {
   "attachments": {},
   "cell_type": "markdown",
   "metadata": {},
   "source": [
    "### 辅助函数\n",
    "\n",
    "在整个课程中，我们将使用 OpenAI 的 gpt-3.5-turbo 模型和聊天补全端点。\n",
    "\n",
    "这个辅助函数将使得使用提示和查看生成的输出更加容易："
   ]
  },
  {
   "cell_type": "code",
   "execution_count": 3,
   "metadata": {},
   "outputs": [],
   "source": [
    "def get_completion(prompt, model=\"gpt-3.5-turbo\"):\n",
    "    messages = [{\"role\": \"user\", \"content\": prompt}]\n",
    "    response = openai.ChatCompletion.create(\n",
    "        model=model,\n",
    "        messages=messages,\n",
    "        temperature=0, # this is the degree of randomness of the model's output\n",
    "    )\n",
    "    return response.choices[0].message[\"content\"]"
   ]
  },
  {
   "attachments": {},
   "cell_type": "markdown",
   "metadata": {},
   "source": [
    "## 提示原则\n",
    "\n",
    "-   **原则1：编写清晰明确的指令**\n",
    "-   **原则2：给模型足够的“思考”时间**\n",
    "\n"
   ]
  },
  {
   "attachments": {},
   "cell_type": "markdown",
   "metadata": {},
   "source": [
    "### 原则1：编写清晰明确的指令"
   ]
  },
  {
   "attachments": {},
   "cell_type": "markdown",
   "metadata": {},
   "source": [
    "#### 技巧1：使用分隔符清晰地表示输入的不同部分\n",
    "\n",
    "-   分隔符可以是任何类似的符号：```, \"\"\", < >, `<tag> </tag>`, `:`"
   ]
  },
  {
   "cell_type": "code",
   "execution_count": 12,
   "metadata": {},
   "outputs": [
    {
     "name": "stdout",
     "output_type": "stream",
     "text": [
      "提供清晰且尽可能具体的操作说明，以引导模型朝着期望的输出方向发展，避免混淆简短提示和长提示的作用。\n"
     ]
    }
   ],
   "source": [
    "text = f\"\"\"\n",
    "您应该通过表达您希望模型执行的操作提供清晰且尽可能具体。\n",
    "您应该通过提供尽可能清晰和具体的说明来表达您希望模型执行的操作。\n",
    "这将引导模型朝着期望的输出方向发展，并减少收到不相关或不正确响应的机会。 \n",
    "不要将清晰的提示与简短的提示混淆。\n",
    "在许多情况下，更长的提示可以为模型提供更多的清晰度和上下文，这可以导致更详细和相关的输出。\n",
    "\"\"\"\n",
    "prompt = f\"\"\"\n",
    "将由三个反引号分隔的文本总结成一个句子。\n",
    "```{text}```\n",
    "\"\"\"\n",
    "response = get_completion(prompt)\n",
    "print(response)"
   ]
  },
  {
   "attachments": {},
   "cell_type": "markdown",
   "metadata": {},
   "source": [
    "#### 技巧2：要求结构化输出\n",
    "\n",
    "-   JSON，HTML"
   ]
  },
  {
   "cell_type": "code",
   "execution_count": 5,
   "metadata": {},
   "outputs": [
    {
     "name": "stdout",
     "output_type": "stream",
     "text": [
      "[\n",
      "  {\n",
      "    \"book_id\": 1,\n",
      "    \"title\": \"荒野之心\",\n",
      "    \"author\": \"张三\",\n",
      "    \"genre\": \"冒险\"\n",
      "  },\n",
      "  {\n",
      "    \"book_id\": 2,\n",
      "    \"title\": \"红尘梦\",\n",
      "    \"author\": \"李四\",\n",
      "    \"genre\": \"言情\"\n",
      "  },\n",
      "  {\n",
      "    \"book_id\": 3,\n",
      "    \"title\": \"天涯孤客\",\n",
      "    \"author\": \"王五\",\n",
      "    \"genre\": \"历史\"\n",
      "  }\n",
      "]\n"
     ]
    }
   ],
   "source": [
    "prompt = f\"\"\"\n",
    "生成三个虚构的中文书名及其作者和类型的清单。 \n",
    "使用以下键以 JSON 格式提供它们：book_id, title, author, genre.\n",
    "\"\"\"\n",
    "response = get_completion(prompt)\n",
    "print(response)"
   ]
  },
  {
   "attachments": {},
   "cell_type": "markdown",
   "metadata": {},
   "source": [
    "#### 技巧3：让模型检查条件是否满足"
   ]
  },
  {
   "cell_type": "code",
   "execution_count": 14,
   "metadata": {},
   "outputs": [
    {
     "name": "stdout",
     "output_type": "stream",
     "text": [
      "Completion for Text 1:\n",
      "第 1 步 - 把水烧开。\n",
      "第 2 步 - 拿起一个杯子并在其中放入一个茶包。\n",
      "第 3 步 - 一旦水足够热，就把它倒在茶包上。\n",
      "第 4 步 - 让它静置一会儿，这样茶就可以陡峭了。\n",
      "第 5 步 - 几分钟后，取出茶包。\n",
      "第 6 步 - 如果你喜欢，你可以加一些糖或牛奶来调味。\n",
      "第 7 步 - 就是这样！ 您已经为自己准备了一杯美味的茶来享用。\n"
     ]
    }
   ],
   "source": [
    "text_1 = f\"\"\"\n",
    "泡一杯茶很简单！ 首先，你需要把水烧开。 当发生这种情况时，拿起一个杯子并在其中放入一个茶包。 一旦水足够热，就把它倒在茶包上。\n",
    "让它静置一会儿，这样茶就可以陡峭了。 几分钟后，取出茶包。 如果你喜欢，你可以加一些糖或牛奶来调味。 \n",
    "就是这样！ 您已经为自己准备了一杯美味的茶来享用。\n",
    "\"\"\"\n",
    "prompt = f\"\"\"\n",
    "您将获得由三重引号分隔的文本。 如果它包含一系列指令，\n",
    "按照以下格式重写这些指令：\n",
    "\n",
    "第 1 步 - ...\n",
    "第 2 步 - …\n",
    "……\n",
    "第 N 步 - …\n",
    "\n",
    "如果文本不包含指令序列，\n",
    "然后简单地写下“没有提供步骤。”\n",
    "\n",
    "\\\"\\\"\\\"{text_1}\\\"\\\"\\\"\n",
    "\"\"\"\n",
    "response = get_completion(prompt)\n",
    "print(\"Completion for Text 1:\")\n",
    "print(response)"
   ]
  },
  {
   "cell_type": "code",
   "execution_count": 4,
   "metadata": {},
   "outputs": [
    {
     "name": "stdout",
     "output_type": "stream",
     "text": [
      "Completion for Text 2:\n",
      "没有提供步骤。\n"
     ]
    }
   ],
   "source": [
    "text_2 = f\"\"\"\n",
    "今天阳光灿烂，鸟儿在歌唱。 这是去公园散步的好天气。 鲜花盛开，树木在微风中轻轻摇曳。 人们出门在外，享受着宜人的天气。 \n",
    "有的在野餐，有的在玩游戏，有的在草地上放松。 这是在户外度过时光并欣赏大自然之美的完美日子。\n",
    "\"\"\"\n",
    "prompt = f\"\"\"\n",
    "您将获得由三重引号分隔的文本。 如果它包含一系列指令，\n",
    "按照以下格式重写这些指令：\n",
    "\n",
    "第 1 步 - ...\n",
    "第 2 步 - …\n",
    "……\n",
    "第 N 步 - …\n",
    "\n",
    "如果文本不包含指令序列，\n",
    "然后简单地写下“没有提供步骤。”\n",
    "\n",
    "\\\"\\\"\\\"{text_2}\\\"\\\"\\\"\n",
    "\"\"\"\n",
    "response = get_completion(prompt)\n",
    "print(\"Completion for Text 2:\")\n",
    "print(response)"
   ]
  },
  {
   "attachments": {},
   "cell_type": "markdown",
   "metadata": {},
   "source": [
    "#### 技巧4：少示例（\"Few-shot\"）提示"
   ]
  },
  {
   "cell_type": "code",
   "execution_count": 15,
   "metadata": {},
   "outputs": [
    {
     "name": "stdout",
     "output_type": "stream",
     "text": [
      "<祖父母>：像一棵树一样，你需要在风雨中弯曲，但不会折断。你需要学会适应变化，坚持不懈地追求你的目标。记住，韧性是一种品质，需要不断地锻炼和培养。\n"
     ]
    }
   ],
   "source": [
    "prompt = f\"\"\"\n",
    "你的任务是以一致的风格回答。\n",
    "\n",
    "<孩子>：教我耐心。\n",
    "\n",
    "<祖父母>： 雕刻最深山谷的河流来自一个谦虚的泉水； 最伟大的交响乐源于一个音符； 最复杂的挂毯始于一根单独的线。\n",
    "\n",
    "<孩子>：教我韧性。\n",
    "\"\"\"\n",
    "response = get_completion(prompt)\n",
    "print(response)"
   ]
  },
  {
   "attachments": {},
   "cell_type": "markdown",
   "metadata": {},
   "source": [
    "### 原则2：给模型足够的“思考”时间\n"
   ]
  },
  {
   "attachments": {},
   "cell_type": "markdown",
   "metadata": {},
   "source": [
    "#### 技巧1：明确完成任务所需的步骤"
   ]
  },
  {
   "cell_type": "code",
   "execution_count": 16,
   "metadata": {},
   "outputs": [
    {
     "name": "stdout",
     "output_type": "stream",
     "text": [
      "Completion for prompt 1:\n",
      "```\n",
      "杰克和吉尔兄妹在迷人的村庄里踏上了去山顶取水的旅程，但不幸中途遭遇事故，幸好两人只受轻伤，回到家后得到了安慰的拥抱，继续愉快地探索。\n",
      "```\n",
      "Dans un charmant village, les frères et sœurs Jack et Jill ont entrepris un voyage réussi pour aller chercher de l'eau au sommet de la montagne. Malheureusement, un accident est survenu en cours de route, mais heureusement, les deux n'ont subi que des blessures légères et ont été réconfortés par des câlins à leur retour à la maison, continuant leur exploration joyeuse. \n",
      "\n",
      "Noms: Jack, Jill.\n",
      "\n",
      "{\n",
      "  \"french_summary\": \"Dans un charmant village, les frères et sœurs Jack et Jill ont entrepris un voyage réussi pour aller chercher de l'eau au sommet de la montagne. Malheureusement, un accident est survenu en cours de route, mais heureusement, les deux n'ont subi que des blessures légères et ont été réconfortés par des câlins à leur retour à la maison, continuant leur exploration joyeuse.\",\n",
      "  \"num_names\": 2\n",
      "}\n"
     ]
    }
   ],
   "source": [
    "text = f\"\"\"\n",
    "在一个迷人的村庄里，杰克和吉尔兄妹踏上了去山顶取水的旅程出色地。 \n",
    "当他们欢呼雀跃地向上爬时，不幸降临了——杰克被一块石头绊倒，从山上滚下，吉尔也跟着跌倒。\n",
    "虽然受到了轻微的打击，但两人回到家后得到了安慰的拥抱。 尽管发生了事故，他们的冒险精神丝毫未减，继续愉快地探索。\n",
    "\"\"\"\n",
    "# example 1\n",
    "prompt_1 = f\"\"\"\n",
    "执行以下操作：\n",
    "1 - 总结以下文本，用 1 个句子用三重反引号分隔。\n",
    "2 - 将摘要翻译成法语。\n",
    "3 - 在法语摘要中列出每个名字。\n",
    "4 - 输出包含以下键的 json 对象：french_summary、num_names。\n",
    "\n",
    "用换行符分隔你的答案。\n",
    "\n",
    "文本:\n",
    "```{text}```\n",
    "\"\"\"\n",
    "response = get_completion(prompt_1)\n",
    "print(\"Completion for prompt 1:\")\n",
    "print(response)"
   ]
  },
  {
   "attachments": {},
   "cell_type": "markdown",
   "metadata": {},
   "source": [
    "要求以指定格式输出"
   ]
  },
  {
   "cell_type": "code",
   "execution_count": 17,
   "metadata": {},
   "outputs": [
    {
     "name": "stdout",
     "output_type": "stream",
     "text": [
      "\n",
      "Completion for prompt 2:\n",
      "摘要：杰克和吉尔兄妹在旅途中遭遇不幸，但最终平安回家，继续探险。\n",
      "翻译：Jack et Jill, frère et sœur, ont eu un accident lors de leur voyage pour chercher de l'eau au sommet de la montagne, mais ils sont rentrés chez eux en sécurité et ont continué leur exploration avec leur esprit d'aventure intact.\n",
      "姓名：杰克、吉尔\n",
      "输出 JSON：{\"french_summary\": \"Jack et Jill, frère et sœur, ont eu un accident lors de leur voyage pour chercher de l'eau au sommet de la montagne, mais ils sont rentrés chez eux en sécurité et ont continué leur exploration avec leur esprit d'aventure intact.\", \"num_names\": 2}\n"
     ]
    }
   ],
   "source": [
    "prompt_2 = f\"\"\"\n",
    "您的任务是执行以下操作：\n",
    "1 - 用 1 句话总结以下由 <> 分隔的文本。\n",
    "2 - 将摘要翻译成法语。\n",
    "3 - 在法语摘要中列出每个名字。\n",
    "4 - 输出包含以下键的 json 对象：french_summary、num_names。\n",
    "\n",
    "使用以下格式：\n",
    "文本：<要总结的文本>\n",
    "摘要：<摘要>\n",
    "翻译：<摘要翻译>\n",
    "姓名：<意大利语摘要中的姓名列表>\n",
    "输出 JSON：<带有摘要和 num_names 的 json>\n",
    "\n",
    "Text: <{text}>\n",
    "\"\"\"\n",
    "response = get_completion(prompt_2)\n",
    "print(\"\\nCompletion for prompt 2:\")\n",
    "print(response)"
   ]
  },
  {
   "attachments": {},
   "cell_type": "markdown",
   "metadata": {},
   "source": [
    "#### 技巧2：指导模型在得出结论之前先自己解决问题"
   ]
  },
  {
   "cell_type": "code",
   "execution_count": 18,
   "metadata": {},
   "outputs": [
    {
     "name": "stdout",
     "output_type": "stream",
     "text": [
      "学生的答案是正确的。\n"
     ]
    }
   ],
   "source": [
    "prompt = f\"\"\"\n",
    "判断学生的答案是否正确。\n",
    "\n",
    "问题：\n",
    "我正在建造一个太阳能装置，我需要帮助来计算财务费用。\n",
    "- 土地成本 100 美元/平方英尺\n",
    "- 我可以以 250 美元/平方英尺的价格购买太阳能电池板\n",
    "- 我协商了一份维护合同，每年将花费我 10 万美元，外加每平方英尺 10 美元\n",
    "\n",
    "运营第一年的总成本与平方英尺数的关系是多少？\n",
    "\n",
    "学生的解决方案：\n",
    "设 x 是以平方英尺为单位的安装尺寸。\n",
    "费用：\n",
    "1.土地成本：100x\n",
    "2.太阳能电池板成本：250x\n",
    "3.维护费用：100,000+100x\n",
    "总成本：100x + 250x + 100,000 + 100x = 450x + 100,000\n",
    "\"\"\"\n",
    "response = get_completion(prompt)\n",
    "print(response)"
   ]
  },
  {
   "attachments": {},
   "cell_type": "markdown",
   "metadata": {},
   "source": [
    "请注意，学生的解决方案实际上是错误的。 我们可以通过指导模型先自己解决问题来解决这个问题。"
   ]
  },
  {
   "cell_type": "code",
   "execution_count": 19,
   "metadata": {},
   "outputs": [
    {
     "name": "stdout",
     "output_type": "stream",
     "text": [
      "学生的解决方案是正确的。\n",
      "\n",
      "运营第一年的总成本与平方英尺数的关系是：总成本 = 450x + 100,000，其中 x 是以平方英尺为单位的安装尺寸。\n"
     ]
    }
   ],
   "source": [
    "prompt = f\"\"\"\n",
    "您的任务是确定学生的解决方案是否正确。\n",
    "要解决此问题，请执行以下操作：\n",
    "- 首先，找出你自己的解决方案。\n",
    "- 然后将您的解决方案与学生的解决方案进行比较，并评估学生的解决方案是否正确。\n",
    "\n",
    "在您自己完成问题之前，不要判断学生的解决方案是否正确。\n",
    "\n",
    "使用以下格式：\n",
    "问题：\n",
    "```\n",
    "在这里提问\n",
    "```\n",
    "学生的解决方案：\n",
    "```\n",
    "学生的解决方案在这里\n",
    "```\n",
    "实际解决方案：\n",
    "```\n",
    "在此处制定解决方案和您的解决方案的步骤\n",
    "```\n",
    "学生的解法和实际解法一样吗 \\\n",
    "刚刚计算：\n",
    "```\n",
    "是还是不是\n",
    "```\n",
    "学生年级：\n",
    "```\n",
    "正确或不正确\n",
    "```\n",
    "\n",
    "问题：\n",
    "```\n",
    "我正在建造一个太阳能装置，我需要帮助来计算财务费用。\n",
    "- 土地成本 100 美元/平方英尺\n",
    "- 我可以以 250 美元/平方英尺的价格购买太阳能电池板\n",
    "- 我协商了一份维护合同，每年将花费我 10 万美元，外加每平方英尺 10 美元\n",
    "\n",
    "运营第一年的总成本与平方英尺数的关系是多少？\n",
    "```\n",
    "学生的解决方案：\n",
    "```\n",
    "设 x 是以平方英尺为单位的安装尺寸。\n",
    "费用：\n",
    "1.土地成本：100x\n",
    "2.太阳能电池板成本：250x\n",
    "3.维护费用：100,000+100x\n",
    "总成本：100x + 250x + 100,000 + 100x = 450x + 100,000\n",
    "```\n",
    "实际解决方案：\n",
    "\"\"\"\n",
    "response = get_completion(prompt)\n",
    "print(response)"
   ]
  },
  {
   "attachments": {},
   "cell_type": "markdown",
   "metadata": {},
   "source": [
    "## 模型限制：幻觉\n",
    "\n",
    "- Boie 是一家真实的公司，产品名称并非真实存在。"
   ]
  },
  {
   "cell_type": "code",
   "execution_count": 20,
   "metadata": {},
   "outputs": [
    {
     "name": "stdout",
     "output_type": "stream",
     "text": [
      "Boie的AeroGlide UltraSlim智能牙刷是一款高科技的电动牙刷，采用了先进的声波技术，能够提供高效的清洁效果。该牙刷的刷头非常细小，能够轻松进入牙缝和牙龈，清洁效果非常出色。此外，该牙刷还配备了智能感应技术，能够自动调节清洁力度和时间，让你的牙齿更加健康。该牙刷还具有防水设计，可以在淋浴或洗脸时使用，非常方便。总之，Boie的AeroGlide UltraSlim智能牙刷是一款高品质、高效率的电动牙刷，非常适合追求健康口腔的人士使用。\n"
     ]
    }
   ],
   "source": [
    "prompt = f\"\"\"\n",
    "告诉我有关 Boie 的 AeroGlide UltraSlim 智能牙刷的信息\n",
    "\"\"\"\n",
    "response = get_completion(prompt)\n",
    "print(response)"
   ]
  },
  {
   "attachments": {},
   "cell_type": "markdown",
   "metadata": {},
   "source": [
    "### 关于在本课程外使用 OpenAI API 的说明\n",
    "\n",
    "要安装 OpenAI Python 库：\n",
    "\n",
    "```\n",
    "!pip install openai\n",
    "```\n",
    "\n",
    "您需要使用账户密钥配置库，密钥可在[网站](https://platform.openai.com/account/api-keys)上找到。\n",
    "\n",
    "您可以在使用库之前将其设置为 `OPENAI_API_KEY` 环境变量：\n",
    "\n",
    " ```\n",
    " !export OPENAI_API_KEY='sk-...'\n",
    " ```\n",
    "\n",
    "或者，将 `openai.api_key` 设置为其值：\n",
    "\n",
    "```\n",
    "import openai\n",
    "openai.api_key = \"sk-...\"\n",
    "```\n"
   ]
  },
  {
   "attachments": {},
   "cell_type": "markdown",
   "metadata": {},
   "source": [
    "### 关于反斜杠的说明\n",
    "\n",
    "-   在本课程中，我们使用反斜杠 `\\` 来使文本适应屏幕，而不需要插入换行符 '\\n'。\n",
    "-   GPT-3 对于插入换行符与否并不受太大影响。但是在一般使用大型语言模型（LLMs）时，您可能需要考虑在提示中的换行符是否会影响模型的性能。"
   ]
  }
 ],
 "metadata": {
  "kernelspec": {
   "display_name": "Python 3",
   "language": "python",
   "name": "python3"
  },
  "language_info": {
   "codemirror_mode": {
    "name": "ipython",
    "version": 3
   },
   "file_extension": ".py",
   "mimetype": "text/x-python",
   "name": "python",
   "nbconvert_exporter": "python",
   "pygments_lexer": "ipython3",
   "version": "3.11.3"
  },
  "orig_nbformat": 4
 },
 "nbformat": 4,
 "nbformat_minor": 2
}
