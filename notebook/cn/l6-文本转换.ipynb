{
 "cells": [
  {
   "attachments": {},
   "cell_type": "markdown",
   "metadata": {},
   "source": [
    "# 文本转换\n",
    "\n",
    "在这个笔记本中，我们将探讨如何使用大型语言模型进行文本转换任务，如语言翻译、拼写和语法检查、语气调整和格式转换。\n",
    "\n",
    "[website](https://learn.deeplearning.ai/chatgpt-prompt-eng/lesson/6/transforming)"
   ]
  },
  {
   "attachments": {},
   "cell_type": "markdown",
   "metadata": {},
   "source": [
    "## Setup"
   ]
  },
  {
   "cell_type": "code",
   "execution_count": 1,
   "metadata": {},
   "outputs": [],
   "source": [
    "import openai\n",
    "import os\n",
    "\n",
    "from dotenv import load_dotenv, find_dotenv\n",
    "_ = load_dotenv(find_dotenv()) # read local .env file\n",
    "\n",
    "openai.api_key  = os.getenv('OPENAI_API_KEY')"
   ]
  },
  {
   "cell_type": "code",
   "execution_count": 2,
   "metadata": {},
   "outputs": [],
   "source": [
    "def get_completion(prompt, model=\"gpt-3.5-turbo\", temperature=0): \n",
    "    messages = [{\"role\": \"user\", \"content\": prompt}]\n",
    "    response = openai.ChatCompletion.create(\n",
    "        model=model,\n",
    "        messages=messages,\n",
    "        temperature=temperature, \n",
    "    )\n",
    "    return response.choices[0].message[\"content\"]"
   ]
  },
  {
   "attachments": {},
   "cell_type": "markdown",
   "metadata": {},
   "source": [
    "## 翻译\n",
    "ChatGPT 接受许多种语言的训练资料。这使得模型具有翻译能力。以下是如何使用此功能的一些示例。"
   ]
  },
  {
   "cell_type": "code",
   "execution_count": 3,
   "metadata": {},
   "outputs": [
    {
     "name": "stdout",
     "output_type": "stream",
     "text": [
      "嗨，我想订购一个搅拌机。\n"
     ]
    }
   ],
   "source": [
    "prompt = f\"\"\"\n",
    "翻译以下英文文本为汉语: \\ \n",
    "```Hi, I would like to order a blender```\n",
    "\"\"\"\n",
    "response = get_completion(prompt)\n",
    "print(response)"
   ]
  },
  {
   "cell_type": "code",
   "execution_count": 4,
   "metadata": {},
   "outputs": [
    {
     "name": "stdout",
     "output_type": "stream",
     "text": [
      "这是法语。\n"
     ]
    }
   ],
   "source": [
    "prompt = f\"\"\"\n",
    "告诉我这是哪种语言: \n",
    "```Combien coûte le lampadaire?```\n",
    "\"\"\"\n",
    "response = get_completion(prompt)\n",
    "print(response)"
   ]
  },
  {
   "cell_type": "code",
   "execution_count": 6,
   "metadata": {},
   "outputs": [
    {
     "name": "stdout",
     "output_type": "stream",
     "text": [
      "法语：Je veux acheter un ballon de basket.\n",
      "西班牙语：Quiero comprar una pelota de baloncesto.\n",
      "英语：I want to buy a basketball.\n"
     ]
    }
   ],
   "source": [
    "prompt = f\"\"\"\n",
    "翻译以下文本为法语/西班牙语和英语：\n",
    "```我想买一个篮球```\n",
    "\"\"\"\n",
    "response = get_completion(prompt)\n",
    "print(response)"
   ]
  },
  {
   "cell_type": "code",
   "execution_count": 8,
   "metadata": {},
   "outputs": [
    {
     "name": "stdout",
     "output_type": "stream",
     "text": [
      "正式形式：您是否需要订购一个枕头？\n",
      "\n",
      "非正式形式：你想要订购一个枕头吗？\n"
     ]
    }
   ],
   "source": [
    "prompt = f\"\"\"\n",
    "将以下文本翻译成中文，正式和非正式形式：\n",
    "“Would you like to order a pillow？”\n",
    "\"\"\"\n",
    "response = get_completion(prompt)\n",
    "print(response)"
   ]
  },
  {
   "attachments": {},
   "cell_type": "markdown",
   "metadata": {},
   "source": [
    "### 通用翻译器\n",
    "\n",
    "想象一下，您是一家大型跨国电商公司的 IT 主管。用户用各种母语向您发送 IT 问题。您的员工来自世界各地，只说他们的母语。您需要一个通用翻译器！"
   ]
  },
  {
   "cell_type": "code",
   "execution_count": 10,
   "metadata": {},
   "outputs": [],
   "source": [
    "user_messages = [\n",
    "  \"La performance du système est plus lente que d'habitude.\",  # System performance is slower than normal         \n",
    "  \"Mi monitor tiene píxeles que no se iluminan.\",              # My monitor has pixels that are not lighting\n",
    "  \"Il mio mouse non funziona\",                                 # My mouse is not working\n",
    "  \"Mój klawisz Ctrl jest zepsuty\",                             # My keyboard has a broken control key\n",
    "  \"My screen is flashing\"                                      # My screen is flashing\n",
    "] "
   ]
  },
  {
   "cell_type": "code",
   "execution_count": 12,
   "metadata": {},
   "outputs": [
    {
     "name": "stdout",
     "output_type": "stream",
     "text": [
      "原始语言 (法语。): La performance du système est plus lente que d'habitude.\n",
      "中文翻译：系统性能比平时慢。\n",
      "\n",
      "英文翻译：The system performance is slower than usual. \n",
      "\n",
      "原始语言 (西班牙语。): Mi monitor tiene píxeles que no se iluminan.\n",
      "中文翻译：我的显示器有一些像素点不亮。\n",
      "\n",
      "英文翻译：My monitor has pixels that do not light up. \n",
      "\n",
      "原始语言 (意大利语。): Il mio mouse non funziona\n",
      "中文翻译：我的鼠标不工作。\n",
      "\n",
      "英文翻译：My mouse is not working. \n",
      "\n",
      "原始语言 (波兰语。): Mój klawisz Ctrl jest zepsuty\n",
      "中文翻译：我的Ctrl键坏了。\n",
      "\n",
      "英文翻译：My Ctrl key is broken. \n",
      "\n",
      "原始语言 (英语。): My screen is flashing\n",
      "中文翻译：我的屏幕在闪烁。\n",
      "\n",
      "英文翻译：My screen is flashing. \n",
      "\n"
     ]
    }
   ],
   "source": [
    "for issue in user_messages:\n",
    "    prompt = f\"告诉我下面文本的语言是: ```{issue}```\"\n",
    "    lang = get_completion(prompt)\n",
    "    print(f\"原始语言 ({lang}): {issue}\")\n",
    "\n",
    "    prompt = f\"\"\"\n",
    "    将以下文本翻译成中文和英文：``{issue}```\n",
    "    \"\"\"\n",
    "    response = get_completion(prompt)\n",
    "    print(response, \"\\n\")"
   ]
  },
  {
   "attachments": {},
   "cell_type": "markdown",
   "metadata": {},
   "source": [
    "## 语气转换\n",
    "\n",
    "根据目标受众，写作可能有所不同。ChatGPT 可以生成不同的语气。\n"
   ]
  },
  {
   "cell_type": "code",
   "execution_count": 13,
   "metadata": {},
   "outputs": [
    {
     "name": "stdout",
     "output_type": "stream",
     "text": [
      "尊敬的先生/女士，我是乔，想请您查看这个立灯的规格。\n"
     ]
    }
   ],
   "source": [
    "prompt = f\"\"\"\n",
    "将以下俚语翻译成商业信函：\n",
    "“老兄，我是乔，看看这个立灯的规格。”\n",
    "\"\"\"\n",
    "response = get_completion(prompt)\n",
    "print(response)"
   ]
  },
  {
   "attachments": {},
   "cell_type": "markdown",
   "metadata": {},
   "source": [
    "## 格式转换\n",
    "\n",
    "ChatGPT 可以在格式之间进行转换。Prompt 应描述输入和输出格式。"
   ]
  },
  {
   "cell_type": "code",
   "execution_count": 14,
   "metadata": {},
   "outputs": [
    {
     "name": "stdout",
     "output_type": "stream",
     "text": [
      "<table>\n",
      "  <tr>\n",
      "    <th>resturant employees</th>\n",
      "    <th>name</th>\n",
      "    <th>email</th>\n",
      "  </tr>\n",
      "  <tr>\n",
      "    <td>1</td>\n",
      "    <td>Shyam</td>\n",
      "    <td>shyamjaiswal@gmail.com</td>\n",
      "  </tr>\n",
      "  <tr>\n",
      "    <td>2</td>\n",
      "    <td>Bob</td>\n",
      "    <td>bob32@gmail.com</td>\n",
      "  </tr>\n",
      "  <tr>\n",
      "    <td>3</td>\n",
      "    <td>Jai</td>\n",
      "    <td>jai87@gmail.com</td>\n",
      "  </tr>\n",
      "</table>\n"
     ]
    }
   ],
   "source": [
    "data_json = { \"resturant employees\" :[ \n",
    "    {\"name\":\"Shyam\", \"email\":\"shyamjaiswal@gmail.com\"},\n",
    "    {\"name\":\"Bob\", \"email\":\"bob32@gmail.com\"},\n",
    "    {\"name\":\"Jai\", \"email\":\"jai87@gmail.com\"}\n",
    "]}\n",
    "\n",
    "prompt = f\"\"\"\n",
    "将以下 Python 字典从 JSON 翻译成带有列标题和标题的 HTML 表格： {data_json}\n",
    "\"\"\"\n",
    "response = get_completion(prompt)\n",
    "print(response)"
   ]
  },
  {
   "cell_type": "code",
   "execution_count": 15,
   "metadata": {},
   "outputs": [
    {
     "data": {
      "text/html": [
       "<table>\n",
       "  <tr>\n",
       "    <th>resturant employees</th>\n",
       "    <th>name</th>\n",
       "    <th>email</th>\n",
       "  </tr>\n",
       "  <tr>\n",
       "    <td>1</td>\n",
       "    <td>Shyam</td>\n",
       "    <td>shyamjaiswal@gmail.com</td>\n",
       "  </tr>\n",
       "  <tr>\n",
       "    <td>2</td>\n",
       "    <td>Bob</td>\n",
       "    <td>bob32@gmail.com</td>\n",
       "  </tr>\n",
       "  <tr>\n",
       "    <td>3</td>\n",
       "    <td>Jai</td>\n",
       "    <td>jai87@gmail.com</td>\n",
       "  </tr>\n",
       "</table>"
      ],
      "text/plain": [
       "<IPython.core.display.HTML object>"
      ]
     },
     "metadata": {},
     "output_type": "display_data"
    }
   ],
   "source": [
    "from IPython.display import display, Markdown, Latex, HTML, JSON\n",
    "display(HTML(response))"
   ]
  },
  {
   "attachments": {},
   "cell_type": "markdown",
   "metadata": {},
   "source": [
    "## 拼写检查/语法检查\n",
    "\n",
    "以下是一些常见的语法和拼写问题以及 LLM 的回应。\n",
    "\n",
    "要向 LLM 表明您希望它校对您的文本，您可以指示模型进行“校对”或“校对并纠正”。"
   ]
  },
  {
   "cell_type": "code",
   "execution_count": 18,
   "metadata": {},
   "outputs": [
    {
     "name": "stdout",
     "output_type": "stream",
     "text": [
      "未发现错误。\n",
      "\n",
      "重写后的版本：昨天我去了图书馆借了几本书。\n",
      "未发现错误。\n",
      "\n",
      "重写后的版本：他们每天都去跑步来锻炼身体。\n",
      "未发现错误。 \n",
      "\n",
      "重写后的版本：这个苹果味道非常好。\n",
      "未发现错误。\n",
      "\n",
      "重写后的版本：我喜欢吃水果，尤其是苹果和香蕉。\n",
      "未发现错误。\n",
      "\n",
      "重写后的版本：这款手机的屏幕尺寸非常大。\n",
      "未发现错误。\n",
      "\n",
      "重写后的版本：昨天我去了超市买了一些东西。\n",
      "未发现错误。\n",
      "\n",
      "重写后的版本：他的房子离公司很近。\n"
     ]
    }
   ],
   "source": [
    "text = [\n",
    "\"我昨天去图书馆借几本书籍。\", # 借 -> 借了\n",
    "\"他们每天都去跑步锻炼身体。\", # 锻炼身体 -> 锻炼\n",
    "\"这个苹果味道好吃极了。\", # 好吃极了 -> 非常好吃\n",
    "\"我喜欢吃苹果和香蕉这些水果。\", # 这些水果 -> （删除）\n",
    "\"这个手机的屏幕尺寸特大。\", # 特大 -> 很大\n",
    "\"我昨天去超市买了一些东西。\", # 去超市 -> 去了超市\n",
    "\"他的房子离公司路程很近。\" # 路程很近 -> 很近\n",
    "]\n",
    "\n",
    "for t in text:\n",
    "    prompt = f\"\"\"\n",
    "    校对并更正以下文字并重写更正后的版本，并标注错误信息。 如果你没有找到错误，只需说“未发现错误”。 \n",
    "    不要使用文本周围的任何标点符号：\n",
    "    ```{t}```\"\"\"\n",
    "    response = get_completion(prompt)\n",
    "    print(response)"
   ]
  },
  {
   "cell_type": "code",
   "execution_count": 22,
   "metadata": {},
   "outputs": [
    {
     "name": "stdout",
     "output_type": "stream",
     "text": [
      "我买了这个作为我女儿的生日礼物，因为她总是从我的房间拿走我的熊猫。是的，成年人也喜欢熊猫。她带着它到处走，它非常柔软和可爱。其中一个耳朵比另一个低一点，我不认为这是故意设计成不对称的。虽然我觉得它对我付的钱来说有点小，我认为可能有其他更大的选择，价格相同。它比预期提前了一天送到，所以我在送给女儿之前自己玩了一下。\n"
     ]
    }
   ],
   "source": [
    "text = f\"\"\"\n",
    "我买了这个给我女儿当她生日礼物，因为她总是从我房间拿走我的。是的，大人也喜欢熊猫。她带着它到处走，而且它超级柔软可爱。\n",
    "其中一个耳朵比另一个低一点，我不认为这是设计成不对称的。虽然我觉得它对我付的钱来说有点小。我觉得可能有其他更大的选择，价格一样。\n",
    "它比预期早到了一天，所以我在给女儿之前自己玩了一下。\n",
    "\"\"\"\n",
    "prompt = f\"校对并更正此评论: ```{text}```\"\n",
    "response = get_completion(prompt)\n",
    "print(response)"
   ]
  },
  {
   "cell_type": "code",
   "execution_count": 23,
   "metadata": {},
   "outputs": [
    {
     "data": {
      "text/markdown": [
       "<span style=\"color:red;font-weight:700;text-decoration:line-through;\">我买了这个给我女儿当她生日礼物，因为她总是从我房间拿走我的。是的，大人也喜欢熊猫。她带着它到处走，而且它超级柔软可爱。\n",
       "其中一个耳朵比另一个低一点，我不认为这是设计成不对称的。虽然我觉得它对我付的钱来说有点小。我觉得可能有其他更大的选择，价格一样。\n",
       "它比预期早到了一天，所以我在给女儿之前自己玩了一下。\n",
       "</span><span style=\"color:red;font-weight:700;\">我买了这个作为我女儿的生日礼物，因为她总是从我的房间拿走我的熊猫。是的，成年人也喜欢熊猫。她带着它到处走，它非常柔软和可爱。其中一个耳朵比另一个低一点，我不认为这是故意设计成不对称的。虽然我觉得它对我付的钱来说有点小，我认为可能有其他更大的选择，价格相同。它比预期提前了一天送到，所以我在送给女儿之前自己玩了一下。</span>"
      ],
      "text/plain": [
       "<IPython.core.display.Markdown object>"
      ]
     },
     "metadata": {},
     "output_type": "display_data"
    }
   ],
   "source": [
    "from redlines import Redlines\n",
    "\n",
    "diff = Redlines(text,response)\n",
    "display(Markdown(diff.output_markdown))"
   ]
  },
  {
   "cell_type": "code",
   "execution_count": 25,
   "metadata": {},
   "outputs": [
    {
     "data": {
      "text/markdown": [
       "Title: 柔软可爱的熊猫玩具\n",
       "\n",
       "我为女儿的生日礼物买了这个熊猫玩具，因为她总是从我的房间拿走我的东西。但是，我承认，我也很喜欢这个熊猫。它非常柔软和可爱，女儿带着它到处走。\n",
       "\n",
       "虽然其中一个耳朵比另一个低一点，但我不认为这是设计上的不对称。但是，考虑到我付的钱，我觉得它有点小了。也许有其他更大的选择，价格也相同。\n",
       "\n",
       "不过，这个熊猫比我预期的早到了一天，所以我在女儿拿到它之前就先玩了一下。总的来说，这是一个非常可爱的玩具，我相信女儿会喜欢它。"
      ],
      "text/plain": [
       "<IPython.core.display.Markdown object>"
      ]
     },
     "metadata": {},
     "output_type": "display_data"
    }
   ],
   "source": [
    "prompt = f\"\"\"\n",
    "校对并更正此评论。 使其更具吸引力。确保它遵循 金字塔写作原理 指南并面向高级读者。\n",
    "以 markdown 格式输出。\n",
    "文本内容: ```{text}```\n",
    "\"\"\"\n",
    "response = get_completion(prompt)\n",
    "display(Markdown(response))"
   ]
  },
  {
   "attachments": {},
   "cell_type": "markdown",
   "metadata": {},
   "source": [
    "感谢以下网站：\n",
    "\n",
    "https://writingprompts.com/bad-grammar-examples/\n"
   ]
  }
 ],
 "metadata": {
  "kernelspec": {
   "display_name": "Python 3",
   "language": "python",
   "name": "python3"
  },
  "language_info": {
   "codemirror_mode": {
    "name": "ipython",
    "version": 3
   },
   "file_extension": ".py",
   "mimetype": "text/x-python",
   "name": "python",
   "nbconvert_exporter": "python",
   "pygments_lexer": "ipython3",
   "version": "3.11.3"
  },
  "orig_nbformat": 4
 },
 "nbformat": 4,
 "nbformat_minor": 2
}
