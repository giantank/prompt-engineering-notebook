{
 "cells": [
  {
   "attachments": {},
   "cell_type": "markdown",
   "metadata": {},
   "source": [
    "# 迭代式 Prompt 开发\n",
    "\n",
    "在本课中，您将通过迭代分析和优化 prompts 来从产品事实表中生成营销文案。\n",
    "\n",
    "第三课 [网站](https://learn.deeplearning.ai/chatgpt-prompt-eng/lesson/3/iterative)。\n"
   ]
  },
  {
   "attachments": {},
   "cell_type": "markdown",
   "metadata": {},
   "source": [
    "## 准备工作"
   ]
  },
  {
   "cell_type": "code",
   "execution_count": 2,
   "metadata": {},
   "outputs": [],
   "source": [
    "import openai\n",
    "import os\n",
    "\n",
    "from dotenv import load_dotenv, find_dotenv\n",
    "_ = load_dotenv(find_dotenv()) # read local .env file\n",
    "\n",
    "openai.api_key  = os.getenv('OPENAI_API_KEY')"
   ]
  },
  {
   "cell_type": "code",
   "execution_count": 3,
   "metadata": {},
   "outputs": [],
   "source": [
    "def get_completion(prompt, model=\"gpt-3.5-turbo\"):\n",
    "    messages = [{\"role\": \"user\", \"content\": prompt}]\n",
    "    response = openai.ChatCompletion.create(\n",
    "        model=model,\n",
    "        messages=messages,\n",
    "        temperature=0, # this is the degree of randomness of the model's output\n",
    "    )\n",
    "    return response.choices[0].message[\"content\"]"
   ]
  },
  {
   "attachments": {},
   "cell_type": "markdown",
   "metadata": {},
   "source": [
    "## 从产品事实表中生成营销产品描述"
   ]
  },
  {
   "cell_type": "code",
   "execution_count": 5,
   "metadata": {},
   "outputs": [],
   "source": [
    "fact_sheet_chair = \"\"\"\n",
    "概述\n",
    "- 美丽的中世纪办公家具系列的一部分，\n",
    "包括文件柜、书桌、书柜、会议桌等。\n",
    "- 外壳颜色和底座饰面的多种选择。\n",
    "- 提供 10 种织物和 6 种皮革选项的塑料背面和正面装饰 (SWC-100) 或全装饰 (SWC-110)。\n",
    "- 底漆选项有：不锈钢、哑光黑、亮白或镀铬。\n",
    "- 椅子可带或不带扶手。\n",
    "- 适用于家庭或企业环境。\n",
    "- 符合合同使用条件。\n",
    "\n",
    "建造\n",
    "- 5 轮塑料涂层铝制底座。\n",
    "- 气动座椅调节，便于升高/降低动作。\n",
    "\n",
    "规格\n",
    "- 宽度 53 厘米 | 20.87”\n",
    "- 深度 51 厘米 | 20.08”\n",
    "- 身高 80 厘米 | 31.50”\n",
    "- 座椅高度 44 厘米 | 17.32”\n",
    "- 座椅深度 41 厘米 | 16.14”\n",
    "\n",
    "选项\n",
    "- 软地板或硬地板脚轮选项。\n",
    "- 座椅泡沫密度的两种选择：\n",
    "  中（1.8 磅/立方英尺）或高（2.8 磅/立方英尺）\n",
    "- 无扶手或 8 位 PU 扶手\n",
    "\n",
    "材料\n",
    "壳基滑翔机\n",
    "- 带改性尼龙 PA6/PA66 涂层的铸铝。\n",
    "- 外壳厚度：10 毫米。\n",
    "座位\n",
    "- HD36 泡沫\n",
    "\n",
    "原产地\n",
    "- 意大利\n",
    "\"\"\""
   ]
  },
  {
   "cell_type": "code",
   "execution_count": 6,
   "metadata": {},
   "outputs": [
    {
     "name": "stdout",
     "output_type": "stream",
     "text": [
      "产品描述：\n",
      "\n",
      "这款中世纪办公家具系列的产品包括文件柜、书桌、书柜、会议桌等，适用于家庭或企业环境。外壳颜色和底座饰面有多种选择，底漆选项有不锈钢、哑光黑、亮白或镀铬。椅子可带或不带扶手，座椅泡沫密度有中（1.8 磅/立方英尺）或高（2.8 磅/立方英尺）两种选择，还有无扶手或 8 位 PU 扶手的选项。塑料背面和正面装饰提供 10 种织物和 6 种皮革选项 (SWC-100) 或全装饰 (SWC-110)。产品符合合同使用条件。\n",
      "\n",
      "该产品的底座采用了5轮塑料涂层铝制底座，气动座椅调节，便于升高/降低动作。产品的规格为宽度 53 厘米 | 20.87”，深度 51 厘米 | 20.08”，身高 80 厘米 | 31.50”，座椅高度 44 厘米 | 17.32”，座椅深度 41 厘米 | 16.14”。\n",
      "\n",
      "该产品的壳基滑翔机采用带改性尼龙 PA6/PA66 涂层的铸铝，外壳厚度为10毫米。座位采用HD36泡沫。该产品原产地为意大利。\n"
     ]
    }
   ],
   "source": [
    "prompt = f\"\"\"\n",
    "您的任务是帮助营销团队根据技术说明书为产品的零售网站创建描述。\n",
    "\n",
    "根据技术规范中提供的信息编写产品说明，并用三重反引号分隔。\n",
    "\n",
    "技术规格：```{fact_sheet_chair}```\n",
    "\"\"\"\n",
    "response = get_completion(prompt)\n",
    "print(response)\n"
   ]
  },
  {
   "attachments": {},
   "cell_type": "markdown",
   "metadata": {},
   "source": [
    "## 问题1：文本太长\n",
    "\n",
    "限制单词/句子/字符的数量。"
   ]
  },
  {
   "cell_type": "code",
   "execution_count": 7,
   "metadata": {},
   "outputs": [
    {
     "name": "stdout",
     "output_type": "stream",
     "text": [
      "这款中世纪办公家具系列包括文件柜、书桌、书柜和会议桌等，适用于家庭或企业环境。提供多种外壳颜色和底座饰面选择，可选塑料背面和正面装饰或全装饰。底漆选项有不锈钢、哑光黑、亮白或镀铬。座椅可带或不带扶手，可选软地板或硬地板脚轮，座椅泡沫密度有中和高两种选择。该产品符合合同使用条件，原产地为意大利。\n"
     ]
    }
   ],
   "source": [
    "prompt = f\"\"\"\n",
    "您的任务是帮助营销团队根据技术说明书为产品的零售网站创建描述。\n",
    "\n",
    "根据技术规范中提供的信息编写产品说明，并用三重反引号分隔。\n",
    "\n",
    "最多使用 50 个单词。\n",
    "\n",
    "技术规格：```{fact_sheet_chair}```\n",
    "\"\"\"\n",
    "response = get_completion(prompt)\n",
    "print(response)\n"
   ]
  },
  {
   "attachments": {},
   "cell_type": "markdown",
   "metadata": {},
   "source": [
    "## 问题2：文本侧重于错误的细节\n",
    "\n",
    "要求模型关注与目标受众相关的方面。"
   ]
  },
  {
   "cell_type": "code",
   "execution_count": 8,
   "metadata": {},
   "outputs": [
    {
     "name": "stdout",
     "output_type": "stream",
     "text": [
      "这款中世纪办公家具系列包括文件柜、书桌、书柜和会议桌等。可选多种外壳颜色和底座饰面。SWC-100提供10种织物和6种皮革选项的塑料背面和正面装饰，SWC-110提供全装饰。底漆选项有不锈钢、哑光黑、亮白或镀铬。椅子可带或不带扶手。适用于家庭或企业环境，符合合同使用条件。建造采用5轮塑料涂层铝制底座和气动座椅调节。规格为宽53厘米，深51厘米，身高80厘米，座椅高度44厘米，座椅深度41厘米。可选软地板或硬地板脚轮，座椅泡沫密度中或高，无扶手或8位PU扶手。壳基滑翔机采用带改性尼龙PA6/PA66涂层的铸铝，外壳厚度为10毫米。座位采用HD36泡沫。原产地为意大利。\n"
     ]
    }
   ],
   "source": [
    "prompt = f\"\"\"\n",
    "您的任务是帮助营销团队根据技术说明书为产品的零售网站创建描述。\n",
    "\n",
    "根据技术规范中提供的信息编写产品说明，并用三重反引号分隔。\n",
    "\n",
    "该描述适用于家具零售商，因此在本质上应该是技术性的，并着重于产品的制造材料。\n",
    "\n",
    "最多使用 50 个单词。\n",
    "\n",
    "技术规格：```{fact_sheet_chair}```\n",
    "\"\"\"\n",
    "response = get_completion(prompt)\n",
    "print(response)"
   ]
  },
  {
   "cell_type": "code",
   "execution_count": 9,
   "metadata": {},
   "outputs": [
    {
     "name": "stdout",
     "output_type": "stream",
     "text": [
      "这款中世纪办公家具系列包括文件柜、书桌、书柜和会议桌等，适用于家庭或企业环境。外壳颜色和底座饰面有多种选择，底漆选项有不锈钢、哑光黑、亮白或镀铬。椅子可带或不带扶手，提供 10 种织物和 6 种皮革选项的塑料背面和正面装饰或全装饰。座椅泡沫密度有两种选择：中（1.8 磅/立方英尺）或高（2.8 磅/立方英尺）。该系列符合合同使用条件，原产地为意大利。产品 ID：SWC-100。\n"
     ]
    }
   ],
   "source": [
    "prompt = f\"\"\"\n",
    "您的任务是帮助营销团队根据技术说明书为产品的零售网站创建描述。\n",
    "\n",
    "根据技术规范中提供的信息编写产品说明，并用三重反引号分隔。\n",
    "\n",
    "该描述适用于家具零售商，因此在本质上应该是技术性的，并着重于产品的制造材料。\n",
    "\n",
    "在描述的末尾，包括技术规范中的每个 7 个字符的产品 ID。\n",
    "\n",
    "最多使用 50 个单词。\n",
    "\n",
    "技术规格：```{fact_sheet_chair}```\n",
    "\"\"\"\n",
    "response = get_completion(prompt)\n",
    "print(response)"
   ]
  },
  {
   "attachments": {},
   "cell_type": "markdown",
   "metadata": {},
   "source": [
    "## 问题3：描述需要一个产品尺寸表\n",
    "\n",
    "要求模型提取信息并将其组织成表格。"
   ]
  },
  {
   "cell_type": "code",
   "execution_count": 10,
   "metadata": {},
   "outputs": [
    {
     "name": "stdout",
     "output_type": "stream",
     "text": [
      "<div>\n",
      "  <p>这款家具系列是美丽的中世纪办公家具系列的一部分，包括文件柜、书桌、书柜、会议桌等。外壳颜色和底座饰面有多种选择。提供 10 种织物和 6 种皮革选项的塑料背面和正面装饰 (SWC-100) 或全装饰 (SWC-110)。底漆选项有：不锈钢、哑光黑、亮白或镀铬。椅子可带或不带扶手。适用于家庭或企业环境。符合合同使用条件。</p>\n",
      "  <p>该家具系列的底座采用 5 轮塑料涂层铝制底座，气动座椅调节，便于升高/降低动作。座椅泡沫密度有两种选择：中（1.8 磅/立方英尺）或高（2.8 磅/立方英尺）。座椅可选择无扶手或 8 位 PU 扶手。软地板或硬地板脚轮也可选。</p>\n",
      "  <p>该家具系列的壳基滑翔机采用带改性尼龙 PA6/PA66 涂层的铸铝，外壳厚度为 10 毫米。座位采用 HD36 泡沫。该家具系列的原产地为意大利。</p>\n",
      "  <p>产品 ID：SWC-100</p>\n",
      "  <table>\n",
      "    <caption>产品尺寸</caption>\n",
      "    <tr>\n",
      "      <th>宽度</th>\n",
      "      <td>53 厘米 | 20.87”</td>\n",
      "    </tr>\n",
      "    <tr>\n",
      "      <th>深度</th>\n",
      "      <td>51 厘米 | 20.08”</td>\n",
      "    </tr>\n",
      "    <tr>\n",
      "      <th>身高</th>\n",
      "      <td>80 厘米 | 31.50”</td>\n",
      "    </tr>\n",
      "    <tr>\n",
      "      <th>座椅高度</th>\n",
      "      <td>44 厘米 | 17.32”</td>\n",
      "    </tr>\n",
      "    <tr>\n",
      "      <th>座椅深度</th>\n",
      "      <td>41 厘米 | 16.14”</td>\n",
      "    </tr>\n",
      "  </table>\n",
      "</div>\n"
     ]
    }
   ],
   "source": [
    "prompt = f\"\"\"\n",
    "您的任务是帮助营销团队根据技术说明书为产品的零售网站创建描述。\n",
    "\n",
    "根据技术规范中提供的信息编写产品说明，并用三重反引号分隔。\n",
    "\n",
    "该描述适用于家具零售商，因此在本质上应该是技术性的，并着重于产品的制造材料。\n",
    "\n",
    "在描述的末尾，包括技术规范中的每个 7 个字符的产品 ID。\n",
    "\n",
    "在描述之后，包括一个给出产品尺寸的表格。 该表应该有两列。在第一列中包含维度的名称。 在第二列中仅包含以英寸为单位的测量值。\n",
    "\n",
    "为表格命名为“产品尺寸”。\n",
    "\n",
    "将所有内容格式化为可在网站中使用的 HTML。\n",
    "将说明放在 <div> 元素中。\n",
    "\n",
    "技术规格：```{fact_sheet_chair}```\n",
    "\"\"\"\n",
    "\n",
    "response = get_completion(prompt)\n",
    "print(response)"
   ]
  },
  {
   "attachments": {},
   "cell_type": "markdown",
   "metadata": {},
   "source": [
    "### 加载 Python 库以查看 HTML"
   ]
  },
  {
   "cell_type": "code",
   "execution_count": 11,
   "metadata": {},
   "outputs": [
    {
     "data": {
      "text/html": [
       "<div>\n",
       "  <p>这款家具系列是美丽的中世纪办公家具系列的一部分，包括文件柜、书桌、书柜、会议桌等。外壳颜色和底座饰面有多种选择。提供 10 种织物和 6 种皮革选项的塑料背面和正面装饰 (SWC-100) 或全装饰 (SWC-110)。底漆选项有：不锈钢、哑光黑、亮白或镀铬。椅子可带或不带扶手。适用于家庭或企业环境。符合合同使用条件。</p>\n",
       "  <p>该家具系列的底座采用 5 轮塑料涂层铝制底座，气动座椅调节，便于升高/降低动作。座椅泡沫密度有两种选择：中（1.8 磅/立方英尺）或高（2.8 磅/立方英尺）。座椅可选择无扶手或 8 位 PU 扶手。软地板或硬地板脚轮也可选。</p>\n",
       "  <p>该家具系列的壳基滑翔机采用带改性尼龙 PA6/PA66 涂层的铸铝，外壳厚度为 10 毫米。座位采用 HD36 泡沫。该家具系列的原产地为意大利。</p>\n",
       "  <p>产品 ID：SWC-100</p>\n",
       "  <table>\n",
       "    <caption>产品尺寸</caption>\n",
       "    <tr>\n",
       "      <th>宽度</th>\n",
       "      <td>53 厘米 | 20.87”</td>\n",
       "    </tr>\n",
       "    <tr>\n",
       "      <th>深度</th>\n",
       "      <td>51 厘米 | 20.08”</td>\n",
       "    </tr>\n",
       "    <tr>\n",
       "      <th>身高</th>\n",
       "      <td>80 厘米 | 31.50”</td>\n",
       "    </tr>\n",
       "    <tr>\n",
       "      <th>座椅高度</th>\n",
       "      <td>44 厘米 | 17.32”</td>\n",
       "    </tr>\n",
       "    <tr>\n",
       "      <th>座椅深度</th>\n",
       "      <td>41 厘米 | 16.14”</td>\n",
       "    </tr>\n",
       "  </table>\n",
       "</div>"
      ],
      "text/plain": [
       "<IPython.core.display.HTML object>"
      ]
     },
     "metadata": {},
     "output_type": "display_data"
    }
   ],
   "source": [
    "from IPython.display import display, HTML\n",
    "\n",
    "display(HTML(response))"
   ]
  }
 ],
 "metadata": {
  "kernelspec": {
   "display_name": "Python 3",
   "language": "python",
   "name": "python3"
  },
  "language_info": {
   "codemirror_mode": {
    "name": "ipython",
    "version": 3
   },
   "file_extension": ".py",
   "mimetype": "text/x-python",
   "name": "python",
   "nbconvert_exporter": "python",
   "pygments_lexer": "ipython3",
   "version": "3.11.3"
  },
  "orig_nbformat": 4
 },
 "nbformat": 4,
 "nbformat_minor": 2
}
