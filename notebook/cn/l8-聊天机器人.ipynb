{
 "cells": [
  {
   "attachments": {},
   "cell_type": "markdown",
   "metadata": {},
   "source": [
    "# 聊天机器人\n",
    " \n",
    "在本笔记本中，您将探索如何利用聊天格式与专门针对特定任务或行为定制的聊天机器人进行扩展对话。\n",
    "\n",
    "[website](https://learn.deeplearning.ai/chatgpt-prompt-eng/lesson/8/chatbot)"
   ]
  },
  {
   "attachments": {},
   "cell_type": "markdown",
   "metadata": {},
   "source": [
    "## Setup"
   ]
  },
  {
   "cell_type": "code",
   "execution_count": 1,
   "metadata": {},
   "outputs": [],
   "source": [
    "import os\n",
    "import openai\n",
    "from dotenv import load_dotenv, find_dotenv\n",
    "_ = load_dotenv(find_dotenv()) # read local .env file\n",
    "\n",
    "openai.api_key  = os.getenv('OPENAI_API_KEY')"
   ]
  },
  {
   "cell_type": "code",
   "execution_count": 2,
   "metadata": {},
   "outputs": [],
   "source": [
    "def get_completion(prompt, model=\"gpt-3.5-turbo\"):\n",
    "    messages = [{\"role\": \"user\", \"content\": prompt}]\n",
    "    response = openai.ChatCompletion.create(\n",
    "        model=model,\n",
    "        messages=messages,\n",
    "        temperature=0, # this is the degree of randomness of the model's output\n",
    "    )\n",
    "    return response.choices[0].message[\"content\"]\n",
    "\n",
    "def get_completion_from_messages(messages, model=\"gpt-3.5-turbo\", temperature=0):\n",
    "    response = openai.ChatCompletion.create(\n",
    "        model=model,\n",
    "        messages=messages,\n",
    "        temperature=temperature, # this is the degree of randomness of the model's output\n",
    "    )\n",
    "#     print(str(response.choices[0].message))\n",
    "    return response.choices[0].message[\"content\"]"
   ]
  },
  {
   "cell_type": "code",
   "execution_count": 9,
   "metadata": {},
   "outputs": [],
   "source": [
    "messages =  [  \n",
    "{'role':'system', 'content':'你是一个说话像文学家鲁迅的智能助手。'},    \n",
    "{'role':'user', 'content':'讲一个笑话'},   \n",
    "{'role':'assistant', 'content':'怎么才能把一片面包变成一个蜜蜂？把它扔到蜂窝里！'},   \n",
    "{'role':'user', 'content':'为什么'},  \n",
    "]"
   ]
  },
  {
   "cell_type": "code",
   "execution_count": 10,
   "metadata": {},
   "outputs": [
    {
     "name": "stdout",
     "output_type": "stream",
     "text": [
      "因为蜜蜂会围着那片面包飞来飞去啊！这是一个比较幽默的笑话，希望你喜欢。\n"
     ]
    }
   ],
   "source": [
    "response = get_completion_from_messages(messages, temperature=1)\n",
    "print(response)"
   ]
  },
  {
   "cell_type": "code",
   "execution_count": 11,
   "metadata": {},
   "outputs": [
    {
     "name": "stdout",
     "output_type": "stream",
     "text": [
      "你好，安庆！很高兴见到你。有什么我可以帮助你的吗？\n"
     ]
    }
   ],
   "source": [
    "messages =  [  \n",
    "{'role':'system', 'content':'你是一个友好的聊天机器人.'},    \n",
    "{'role':'user', 'content':'你好，我的名字是安庆'}  ]\n",
    "response = get_completion_from_messages(messages, temperature=1)\n",
    "print(response)"
   ]
  },
  {
   "cell_type": "code",
   "execution_count": 14,
   "metadata": {},
   "outputs": [
    {
     "name": "stdout",
     "output_type": "stream",
     "text": [
      "我的名字是AI助手，很高兴认识你！请问有什么我可以帮你的吗？\n"
     ]
    }
   ],
   "source": [
    "messages =  [  \n",
    "{'role':'system', 'content':'你是一个友好的聊天机器人.'},    \n",
    "{'role':'user', 'content':'好的，你可以记住我的名字。你的名字是什么？'}  ]\n",
    "response = get_completion_from_messages(messages, temperature=1)\n",
    "print(response)"
   ]
  },
  {
   "cell_type": "code",
   "execution_count": 15,
   "metadata": {},
   "outputs": [
    {
     "name": "stdout",
     "output_type": "stream",
     "text": [
      "当然可以，你的名字是安庆。我会记住的。\n"
     ]
    }
   ],
   "source": [
    "messages =  [  \n",
    "{'role':'system', 'content':'你是一个友好的聊天机器人.'},\n",
    "{'role':'user', 'content':'你好，我的名字是安庆。'},\n",
    "{'role':'assistant', 'content': \"你好，安庆！很高兴见到你。有什么我可以帮助你的吗？\"},\n",
    "{'role':'user', 'content':'是的，你可以记住我，我的名字是？'}  ]\n",
    "response = get_completion_from_messages(messages, temperature=1)\n",
    "print(response)"
   ]
  },
  {
   "attachments": {},
   "cell_type": "markdown",
   "metadata": {},
   "source": [
    "## 订单机器人\n",
    "\n",
    "我们可以自动收集用户提示和助手响应，以构建一个订购机器人（OrderBot）。OrderBot 将在披萨餐厅接受订单。"
   ]
  },
  {
   "cell_type": "code",
   "execution_count": 16,
   "metadata": {},
   "outputs": [],
   "source": [
    "def collect_messages(_):\n",
    "    prompt = inp.value_input\n",
    "    inp.value = ''\n",
    "    context.append({'role':'user', 'content':f\"{prompt}\"})\n",
    "    response = get_completion_from_messages(context) \n",
    "    context.append({'role':'assistant', 'content':f\"{response}\"})\n",
    "    panels.append(\n",
    "        pn.Row('User:', pn.pane.Markdown(prompt, width=600)))\n",
    "    panels.append(\n",
    "        pn.Row('Assistant:', pn.pane.Markdown(response, width=600, style={'background-color': '#F6F6F6'})))\n",
    " \n",
    "    return pn.Column(*panels)\n"
   ]
  },
  {
   "cell_type": "code",
   "execution_count": null,
   "metadata": {},
   "outputs": [],
   "source": [
    "import panel as pn  # GUI\n",
    "pn.extension()\n",
    "\n",
    "panels = [] # collect display \n",
    "\n",
    "context = [ {'role':'system', 'content':\"\"\"\n",
    "您是 OrderBot，这是一项为比萨餐厅收集订单的自动化服务。 \\\n",
    "你先问候客户，然后收集订单，\\\n",
    "然后问是自取还是送货。 \\\n",
    "您等待收集整个订单，然后对其进行汇总并检查最终\\\n",
    "如果客户想要添加任何其他内容，则需要时间。 \\\n",
    "如果是送货，你要一个地址。 \\\n",
    "最后你收款了。\\\n",
    "确保清楚地说明所有选项、附加功能和尺寸，以独特地\\\n",
    "从菜单中识别项目。\\\n",
    "你以简短、非常友好的对话方式回应。 \\\n",
    "菜单包括\\\n",
    "意大利辣香肠披萨 12.95, 10.00, 7.00 \\\n",
    "芝士披萨 10.95, 9.25, 6.50 \\\n",
    "茄子披萨 11.95, 9.75, 6.75 \\\n",
    "薯条 4.50, 3.50 \\\n",
    "希腊沙拉 7.25 \\\n",
    "配料：\\\n",
    "额外的奶酪 2.00, \\\n",
    "蘑菇 1.50 \\\n",
    "香肠 3.00 \\\n",
    "加拿大培根 3.50 \\\n",
    "艾酱1.50\\\n",
    "辣椒 1.00 \\\n",
    "饮料：\\\n",
    "可乐 3.00, 2.00, 1.00 \\\n",
    "精灵 3.00, 2.00, 1.00 \\\n",
    "瓶装水 5.00 \\\n",
    "\"\"\"} ]  # accumulate messages\n",
    "\n",
    "\n",
    "inp = pn.widgets.TextInput(value=\"Hi\", placeholder='Enter text here…')\n",
    "button_conversation = pn.widgets.Button(name=\"Chat!\")\n",
    "\n",
    "interactive_conversation = pn.bind(collect_messages, button_conversation)\n",
    "\n",
    "dashboard = pn.Column(\n",
    "    inp,\n",
    "    pn.Row(button_conversation),\n",
    "    pn.panel(interactive_conversation, loading_indicator=True, height=300),\n",
    ")\n",
    "\n",
    "dashboard"
   ]
  },
  {
   "cell_type": "code",
   "execution_count": null,
   "metadata": {},
   "outputs": [],
   "source": [
    "messages =  context.copy()\n",
    "messages.append(\n",
    "{'role':'system', 'content':\"\"\"\n",
    "创建一个关于之前食品订单的JSON摘要。 逐项列出每一项的价格字段应该是：\n",
    "1) 一个比萨饼，包括配菜 \n",
    "2) 配料表\n",
    "3) 饮料表\n",
    "4) 配菜清单\n",
    "5) 总价格\n",
    "\"\"\"\n",
    " },    \n",
    ")\n",
    " #The fields should be 1) pizza, price 2) list of toppings 3) list of drinks, include size include price  4) list of sides include size include price, 5)total price '},    \n",
    "\n",
    "response = get_completion_from_messages(messages, temperature=0)\n",
    "print(response)"
   ]
  }
 ],
 "metadata": {
  "kernelspec": {
   "display_name": "Python 3",
   "language": "python",
   "name": "python3"
  },
  "language_info": {
   "codemirror_mode": {
    "name": "ipython",
    "version": 3
   },
   "file_extension": ".py",
   "mimetype": "text/x-python",
   "name": "python",
   "nbconvert_exporter": "python",
   "pygments_lexer": "ipython3",
   "version": "3.11.3"
  },
  "orig_nbformat": 4
 },
 "nbformat": 4,
 "nbformat_minor": 2
}
